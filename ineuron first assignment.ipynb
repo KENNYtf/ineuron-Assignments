{
 "cells": [
  {
   "cell_type": "raw",
   "id": "a5bcf30f",
   "metadata": {},
   "source": [
    "s = \"this is My First Python programming class and i am learNING python string and its function\"\n",
    "1 . Try to extract data from index one to index 300 with a jump of 3 \n",
    "2. Try to reverse a string without using reverse function \n",
    "3. Try to split a string after conversion of entire string in uppercase \n",
    "4. try to convert the whole string into lower case \n",
    "5 . Try to capitalize the whole string \n",
    "6 . Write a diference between isalnum() and isalpha()\n",
    "7. Try to give an example of expand tab\n",
    "8 . Give an example of strip , lstrip and rstrip \n",
    "9.  Replace a string charecter by another charector by taking your own example \n",
    "10 . Try  to give a defination of string center function with and exmple \n",
    "11 . Write your own definition of compiler and interpretor without copy paste form internet in your own language\n",
    "12 . Python is a interpreted of compiled language give a clear ans with your understanding \n",
    "13 . Try to write a usecase of python with your understanding "
   ]
  },
  {
   "cell_type": "code",
   "execution_count": 2,
   "id": "b5f5ecd1",
   "metadata": {},
   "outputs": [
    {
     "data": {
      "text/plain": [
       "'h   r tnrrmglsnimeNGyosi dtfco'"
      ]
     },
     "execution_count": 2,
     "metadata": {},
     "output_type": "execute_result"
    }
   ],
   "source": [
    "#Question one\n",
    "Text = \"this is My First Python programming class and i am learNING python string and its function\"\n",
    "Text[1:300:3]"
   ]
  },
  {
   "cell_type": "code",
   "execution_count": 3,
   "id": "61c0439c",
   "metadata": {},
   "outputs": [
    {
     "data": {
      "text/plain": [
       "'noitcnuf sti dna gnirts nohtyp GNINrael ma i dna ssalc gnimmargorp nohtyP tsriF yM si sih'"
      ]
     },
     "execution_count": 3,
     "metadata": {},
     "output_type": "execute_result"
    }
   ],
   "source": [
    "#Question 2\n",
    "Text[-1:0:-1]"
   ]
  },
  {
   "cell_type": "code",
   "execution_count": 4,
   "id": "920e527f",
   "metadata": {},
   "outputs": [
    {
     "data": {
      "text/plain": [
       "['THIS',\n",
       " 'IS',\n",
       " 'MY',\n",
       " 'FIRST',\n",
       " 'PYTHON',\n",
       " 'PROGRAMMING',\n",
       " 'CLASS',\n",
       " 'AND',\n",
       " 'I',\n",
       " 'AM',\n",
       " 'LEARNING',\n",
       " 'PYTHON',\n",
       " 'STRING',\n",
       " 'AND',\n",
       " 'ITS',\n",
       " 'FUNCTION']"
      ]
     },
     "execution_count": 4,
     "metadata": {},
     "output_type": "execute_result"
    }
   ],
   "source": [
    "#Question 3\n",
    "Upper_text = Text.upper()\n",
    "Upper_text.split(' ')"
   ]
  },
  {
   "cell_type": "code",
   "execution_count": 5,
   "id": "c814e396",
   "metadata": {},
   "outputs": [
    {
     "data": {
      "text/plain": [
       "'this is my first python programming class and i am learning python string and its function'"
      ]
     },
     "execution_count": 5,
     "metadata": {},
     "output_type": "execute_result"
    }
   ],
   "source": [
    "#Question 4\n",
    "Lower_text = Text.lower()\n",
    "Lower_text"
   ]
  },
  {
   "cell_type": "code",
   "execution_count": 6,
   "id": "969bb19b",
   "metadata": {},
   "outputs": [
    {
     "data": {
      "text/plain": [
       "'This is my first python programming class and i am learning python string and its function'"
      ]
     },
     "execution_count": 6,
     "metadata": {},
     "output_type": "execute_result"
    }
   ],
   "source": [
    "#Question 5\n",
    "Capitalized_text = Text.capitalize()\n",
    "Capitalized_text"
   ]
  },
  {
   "cell_type": "code",
   "execution_count": 7,
   "id": "4c51db95",
   "metadata": {},
   "outputs": [],
   "source": [
    "#Question 6\n",
    "#isalnum - This checks the string for either alphabets or numerics while, example 'Name.isalnum' would return \n",
    "#True becuse it contains alphabets\n",
    "#isaplha - This checks if the string contains all alphabeths example '5400am' would return a Falsw because, the check \n",
    "# is for only alphabets"
   ]
  },
  {
   "cell_type": "code",
   "execution_count": 8,
   "id": "ad2704ec",
   "metadata": {},
   "outputs": [
    {
     "data": {
      "text/plain": [
       "'This    is      an      example of      expanded        text'"
      ]
     },
     "execution_count": 8,
     "metadata": {},
     "output_type": "execute_result"
    }
   ],
   "source": [
    "#Question 7\n",
    "New_text = 'This\\tis\\tan\\texample\\tof\\texpanded\\ttext'\n",
    "Expanded_text = New_text.expandtabs()\n",
    "Expanded_text"
   ]
  },
  {
   "cell_type": "code",
   "execution_count": 9,
   "id": "104d2006",
   "metadata": {},
   "outputs": [
    {
     "data": {
      "text/plain": [
       "' this is the main text'"
      ]
     },
     "execution_count": 9,
     "metadata": {},
     "output_type": "execute_result"
    }
   ],
   "source": [
    "#Question 8\n",
    "#Strip - This removes the space before and after the main text\n",
    "t =' this is the main text '\n",
    "t.strip()\n",
    "#lstrip - This removes the space before the main text and not the space after the main text\n",
    "t.lstrip()\n",
    "#rstrip - This removes the space after the main text and not the space before the main text\n",
    "t.rstrip()"
   ]
  },
  {
   "cell_type": "code",
   "execution_count": 10,
   "id": "16193ba2",
   "metadata": {},
   "outputs": [
    {
     "data": {
      "text/plain": [
       "'This is a another text another'"
      ]
     },
     "execution_count": 10,
     "metadata": {},
     "output_type": "execute_result"
    }
   ],
   "source": [
    "#Question 9\n",
    "#replacing 'replace' with 'another'\n",
    "re = 'This is a replace text another'\n",
    "re.replace('replace','another')"
   ]
  },
  {
   "cell_type": "code",
   "execution_count": 11,
   "id": "5f47decb",
   "metadata": {},
   "outputs": [
    {
     "data": {
      "text/plain": [
       "'*****This is a replace text another*****'"
      ]
     },
     "execution_count": 11,
     "metadata": {},
     "output_type": "execute_result"
    }
   ],
   "source": [
    "#Question 10\n",
    "#what the function does is to add the excess when you subtract the length of the main text from# the int passed into the function\n",
    "#and then move the main text to the center, \n",
    "re.center(40,'*')"
   ]
  },
  {
   "cell_type": "code",
   "execution_count": 12,
   "id": "6893f9e8",
   "metadata": {},
   "outputs": [],
   "source": [
    "#Question 11\n",
    "#Complier runs a check through the entire source code to check for errors, and if there are no errors, it converts the source code in machine code.\n",
    "#Interpreter runs check on the source code line by line to check for errors, before converting it into machine code."
   ]
  },
  {
   "cell_type": "code",
   "execution_count": 13,
   "id": "fc8d5210",
   "metadata": {},
   "outputs": [],
   "source": [
    "#Question 13\n",
    "#There are sweveral use cases for python, but one i will talka bout is \"Data Visualization\", Visualizations helps businesses to see figures represents in pictoral\n",
    "#form, this, rather than looking at chunk of numbers and trying to make sense of it, you can easily look at the charts and make insights from the data."
   ]
  },
  {
   "cell_type": "code",
   "execution_count": null,
   "id": "6d6445f1",
   "metadata": {},
   "outputs": [],
   "source": []
  }
 ],
 "metadata": {
  "kernelspec": {
   "display_name": "Python 3 (ipykernel)",
   "language": "python",
   "name": "python3"
  },
  "language_info": {
   "codemirror_mode": {
    "name": "ipython",
    "version": 3
   },
   "file_extension": ".py",
   "mimetype": "text/x-python",
   "name": "python",
   "nbconvert_exporter": "python",
   "pygments_lexer": "ipython3",
   "version": "3.9.7"
  }
 },
 "nbformat": 4,
 "nbformat_minor": 5
}
